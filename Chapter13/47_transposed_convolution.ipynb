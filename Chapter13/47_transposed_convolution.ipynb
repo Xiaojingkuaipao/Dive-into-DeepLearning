{
 "cells": [
  {
   "cell_type": "markdown",
   "metadata": {},
   "source": [
    "## 转置卷积(Transposed Convolution)\n",
    "- `卷积`操作一般不会用来增大高宽，要么不变要么减半\n",
    "- **转置卷积**可以用来增大高宽\n",
    "- 卷积操作可以理解为矩阵乘法$Y = X \\star W$,可以理解为把$X, Y$都展平为$X', Y'$,则卷积的操作可以等价为\n",
    "$Y' = V · X'$\n",
    "- 那么转置卷积就是把$Y' \\space \\text{and} \\space X'$调转过来，把$Y'$当成输入，$X'$当成输出$X' = V^T · Y'$\n",
    "写一下矩阵维度就能明白了，相当于把卷积操作逆回来了\n",
    "- 转置卷积一般是做上采样"
   ]
  },
  {
   "cell_type": "markdown",
   "metadata": {},
   "source": [
    "### 重谈转置卷积\n",
    "- 下面的正常卷积都是padding=0， stride=1\n",
    "#### 当填充为0， 步幅为1的时候\n",
    "- 将输入填充$k - 1$\n",
    "- 将核矩阵上下左右翻转\n",
    "- 然后做正常的卷积\n",
    "\n",
    "<img src='../images/47image1.png'>\n",
    "\n",
    "#### 当填充为p，步幅为1的时候\n",
    "- 将输入填充$k - p - 1$\n",
    "- 将核矩阵上下左右翻转\n",
    "- 然后做正常卷积\n",
    "\n",
    "<img src='../images/47image2.png'>\n",
    "\n",
    "#### 当填充为p，步幅为s时\n",
    "- 将输入矩阵行和列之间插入$s - 1$行\n",
    "- 将输入填充$k - p - 1$\n",
    "- kernel上下左右翻转\n",
    "- 然后做正常卷积\n",
    "\n",
    "<img src='../images/47image3.png'>\n",
    "\n",
    "#### 转置卷积形状换算\n",
    "- 输入高宽为n， 核k， 填充p， 步幅s\n",
    "- 转置卷积 $n' = n*s + k - 2p -s$\n",
    "  - 卷积：$n' = \\lfloor (n - k + 2p + s) / s\\rfloor \\Rightarrow n \\geq sn' + k - 2p -s$ \n",
    "- 如果让高宽成倍增加，那么$k = 2p + s$"
   ]
  },
  {
   "cell_type": "markdown",
   "metadata": {},
   "source": [
    "### 转置卷积 $\\neq $反卷积\n",
    "- **反卷积**的概念是，$Y = conv(X, K)$, 反卷积操作是$X = deconv(Y, K)$，是将输出和核通过反卷积操作得到输入，值相等，但是转置卷积的值并不相等，只是形状可以上采样到一样的大小"
   ]
  },
  {
   "cell_type": "code",
   "execution_count": 1,
   "metadata": {},
   "outputs": [],
   "source": [
    "import torch\n",
    "import torchvision\n",
    "from d2l import torch as d2l\n",
    "from torch import nn"
   ]
  },
  {
   "cell_type": "code",
   "execution_count": 2,
   "metadata": {},
   "outputs": [],
   "source": [
    "def tran_conv(X:torch.Tensor, K:torch.Tensor):\n",
    "    \"\"\"给定输入X和卷积核K，对其进行转置卷积运算\"\"\"\n",
    "    h, w = K.shape\n",
    "    Y = torch.zeros((X.shape[0] + h - 1, X.shape[1] + w - 1))\n",
    "    for i in range(X.shape[0]):\n",
    "        for j in range(X.shape[1]):\n",
    "            Y[i:i + h, j:j + w] += X[i, j] * K\n",
    "    return Y"
   ]
  },
  {
   "cell_type": "code",
   "execution_count": 3,
   "metadata": {},
   "outputs": [
    {
     "data": {
      "text/plain": [
       "tensor([[ 0.,  0.,  1.],\n",
       "        [ 0.,  4.,  6.],\n",
       "        [ 4., 12.,  9.]])"
      ]
     },
     "execution_count": 3,
     "metadata": {},
     "output_type": "execute_result"
    }
   ],
   "source": [
    "X = torch.tensor([[0., 1.],[2., 3.]])\n",
    "K = torch.tensor([[0., 1.],[2., 3.]])\n",
    "tran_conv(X, K)"
   ]
  },
  {
   "cell_type": "markdown",
   "metadata": {},
   "source": [
    "- 使用torch内置API进行实现"
   ]
  },
  {
   "cell_type": "code",
   "execution_count": 4,
   "metadata": {},
   "outputs": [
    {
     "data": {
      "text/plain": [
       "tensor([[[[ 0.,  0.,  1.],\n",
       "          [ 0.,  4.,  6.],\n",
       "          [ 4., 12.,  9.]]]], grad_fn=<ConvolutionBackward0>)"
      ]
     },
     "execution_count": 4,
     "metadata": {},
     "output_type": "execute_result"
    }
   ],
   "source": [
    "X = X.reshape(1, 1, 2, 2)\n",
    "K = K.reshape(1, 1, 2, 2)\n",
    "tconv = nn.ConvTranspose2d(1, 1, kernel_size=2, bias=False)\n",
    "tconv.weight.data = K\n",
    "tconv(X)"
   ]
  },
  {
   "cell_type": "markdown",
   "metadata": {},
   "source": [
    "### 转置卷积的填充，步幅和多通道"
   ]
  },
  {
   "cell_type": "markdown",
   "metadata": {},
   "source": [
    "- 转置卷积的填充是在输出上的填充，因为转置卷积是卷积的逆运算，所以padding相当于是在输出（原始输入）上的padding，其实是不需要的部分，所以应该加以扣除，也就是说，转置卷积的padding是在输出的tensor上扣掉padding的部分"
   ]
  },
  {
   "cell_type": "code",
   "execution_count": 5,
   "metadata": {},
   "outputs": [
    {
     "data": {
      "text/plain": [
       "tensor([[[[4.]]]], grad_fn=<ConvolutionBackward0>)"
      ]
     },
     "execution_count": 5,
     "metadata": {},
     "output_type": "execute_result"
    }
   ],
   "source": [
    "tconv = nn.ConvTranspose2d(1, 1, kernel_size=2, padding=1, bias=False)\n",
    "tconv.weight.data = K\n",
    "tconv(X)\n",
    "# 在这个例子中，输入图像时2 * 2，经过转置卷积后是3 * 3， 因为padding是1，所以在上下左右各扣掉1行，所以最后的形状就是1"
   ]
  },
  {
   "cell_type": "markdown",
   "metadata": {},
   "source": [
    "- 转置卷积中的stride是控制特征图放大倍数的，因为卷积操作中是把图片的宽高减少到原来的$1 / stride$，所以转置卷积的操作就是把特征图放大到原来的$stride$倍"
   ]
  },
  {
   "cell_type": "code",
   "execution_count": 6,
   "metadata": {},
   "outputs": [
    {
     "data": {
      "text/plain": [
       "torch.Size([1, 1, 4, 4])"
      ]
     },
     "execution_count": 6,
     "metadata": {},
     "output_type": "execute_result"
    }
   ],
   "source": [
    "tconv = nn.ConvTranspose2d(1, 1, kernel_size=2, stride=2, bias=False)\n",
    "tconv.weight.data = K\n",
    "tconv(X).shape"
   ]
  },
  {
   "cell_type": "markdown",
   "metadata": {},
   "source": [
    "- 转置卷积的输入输出通道和卷积的是类似"
   ]
  },
  {
   "cell_type": "code",
   "execution_count": 7,
   "metadata": {},
   "outputs": [
    {
     "data": {
      "text/plain": [
       "True"
      ]
     },
     "execution_count": 7,
     "metadata": {},
     "output_type": "execute_result"
    }
   ],
   "source": [
    "X = torch.rand((1, 10, 16, 16))\n",
    "conv = nn.Conv2d(10, 20, kernel_size=5, padding=2, stride=3)\n",
    "tconv = nn.ConvTranspose2d(20, 10, kernel_size=5, padding=2, stride=3)\n",
    "tconv(conv(X)).shape == X.shape"
   ]
  },
  {
   "cell_type": "markdown",
   "metadata": {},
   "source": [
    "### 转置卷积与矩阵变换的联系"
   ]
  },
  {
   "cell_type": "markdown",
   "metadata": {},
   "source": [
    "- 上文已经说了，我们可以把图片拉成向量的形式，然后卷积核就可以写成权重矩阵的形式"
   ]
  },
  {
   "cell_type": "code",
   "execution_count": null,
   "metadata": {},
   "outputs": [
    {
     "data": {
      "text/plain": [
       "(tensor([[27., 37.],\n",
       "         [57., 67.]]),\n",
       " tensor([[0, 1, 2],\n",
       "         [3, 4, 5],\n",
       "         [6, 7, 8]]))"
      ]
     },
     "execution_count": 12,
     "metadata": {},
     "output_type": "execute_result"
    }
   ],
   "source": [
    "X = torch.arange(9).reshape(3, 3)\n",
    "K = torch.tensor([[1.0, 2.0], [3.0, 4.0]])\n",
    "Y = d2l.corr2d(X, K)\n",
    "Y"
   ]
  },
  {
   "cell_type": "markdown",
   "metadata": {},
   "source": [
    "- 接下来我们对X，Y，K做矩阵变换，X被拉成向量的话维度是(9,),同理Y(4,)，所以权重的形状为(4, 9)"
   ]
  },
  {
   "cell_type": "code",
   "execution_count": 10,
   "metadata": {},
   "outputs": [
    {
     "data": {
      "text/plain": [
       "tensor([[1., 2., 0., 3., 4., 0., 0., 0., 0.],\n",
       "        [0., 1., 2., 0., 3., 4., 0., 0., 0.],\n",
       "        [0., 0., 0., 1., 2., 0., 3., 4., 0.],\n",
       "        [0., 0., 0., 0., 1., 2., 0., 3., 4.]])"
      ]
     },
     "execution_count": 10,
     "metadata": {},
     "output_type": "execute_result"
    }
   ],
   "source": [
    "def kernel2matrix(K):\n",
    "    \"\"\"把卷积核变成权重矩阵\"\"\"\n",
    "    k, W = torch.zeros(5), torch.zeros((4, 9))\n",
    "    k[:2], k[3:] = K[0, :], K[1, :]\n",
    "    W[0, :5], W[1, 1:6], W[2, 3:8], W[3, 4:] = k, k, k, k\n",
    "    return W\n",
    "\n",
    "W = kernel2matrix(K)\n",
    "W"
   ]
  },
  {
   "cell_type": "code",
   "execution_count": 13,
   "metadata": {},
   "outputs": [
    {
     "data": {
      "text/plain": [
       "tensor([[True, True],\n",
       "        [True, True]])"
      ]
     },
     "execution_count": 13,
     "metadata": {},
     "output_type": "execute_result"
    }
   ],
   "source": [
    "Y == torch.matmul(W, X.reshape(-1).float()).reshape(2, 2)"
   ]
  }
 ],
 "metadata": {
  "kernelspec": {
   "display_name": "d2l",
   "language": "python",
   "name": "python3"
  },
  "language_info": {
   "codemirror_mode": {
    "name": "ipython",
    "version": 3
   },
   "file_extension": ".py",
   "mimetype": "text/x-python",
   "name": "python",
   "nbconvert_exporter": "python",
   "pygments_lexer": "ipython3",
   "version": "3.9.21"
  }
 },
 "nbformat": 4,
 "nbformat_minor": 2
}
