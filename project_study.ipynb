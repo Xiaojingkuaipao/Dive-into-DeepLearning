{
 "cells": [
  {
   "cell_type": "code",
   "execution_count": 1,
   "metadata": {},
   "outputs": [
    {
     "data": {
      "text/plain": [
       "tensor([[[0., 2., 2., 0.]],\n",
       "\n",
       "        [[0., 3., 3., 0.]]])"
      ]
     },
     "execution_count": 1,
     "metadata": {},
     "output_type": "execute_result"
    }
   ],
   "source": [
    "import torch\n",
    "\n",
    "X = torch.tensor([\n",
    "    [[0, 0, 0, 0], \n",
    "    [0, 1, 1, 0],\n",
    "    [0, 1, 1, 0]],\n",
    "\n",
    "    [[0, 1, 1, 0], \n",
    "    [0, 1, 1, 0],\n",
    "    [0, 1, 1, 0]]\n",
    "])\n",
    "X.cumsum(1, dtype=torch.float32)[:, -1:, :]"
   ]
  },
  {
   "cell_type": "markdown",
   "metadata": {},
   "source": [
    "### `IntermediateLayerGetter`的使用\n",
    "- 例如：从ResNet中提取layer2和layer3的特征"
   ]
  },
  {
   "cell_type": "code",
   "execution_count": 3,
   "metadata": {},
   "outputs": [
    {
     "name": "stdout",
     "output_type": "stream",
     "text": [
      "feat1 shape: torch.Size([1, 512, 28, 28])\n",
      "feat2 shape: torch.Size([1, 1024, 14, 14])\n",
      "feat3 shape: torch.Size([1, 2048, 7, 7])\n"
     ]
    }
   ],
   "source": [
    "import torch\n",
    "from torch import nn\n",
    "from torchvision.models._utils import IntermediateLayerGetter\n",
    "from torchvision import models\n",
    "\n",
    "# 加载resnet50模型\n",
    "resnet = models.resnet50(pretrained=True)\n",
    "\n",
    "# 选择想要的层，并把其包装为字典\n",
    "return_layers = {'layer2':'feat1', 'layer3':'feat2', 'layer4':'feat3'}\n",
    "\n",
    "layer_getter = IntermediateLayerGetter(resnet, return_layers=return_layers)\n",
    "\n",
    "# 创建一个随机输入 (batch_size=1, channels=3, height=224, width=224)\n",
    "x = torch.randn(1, 3, 224, 224)\n",
    "\n",
    "features = layer_getter(x)\n",
    "\n",
    "for name, feat in features.items():\n",
    "    print(f\"{name} shape: {feat.shape}\")"
   ]
  }
 ],
 "metadata": {
  "kernelspec": {
   "display_name": "d2l",
   "language": "python",
   "name": "python3"
  },
  "language_info": {
   "codemirror_mode": {
    "name": "ipython",
    "version": 3
   },
   "file_extension": ".py",
   "mimetype": "text/x-python",
   "name": "python",
   "nbconvert_exporter": "python",
   "pygments_lexer": "ipython3",
   "version": "3.9.21"
  }
 },
 "nbformat": 4,
 "nbformat_minor": 2
}
