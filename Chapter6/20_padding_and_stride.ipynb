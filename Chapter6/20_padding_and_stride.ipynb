{
 "cells": [
  {
   "cell_type": "markdown",
   "id": "681beb7f03bf8039",
   "metadata": {
    "collapsed": false
   },
   "source": [
    "## 步幅和填充\n",
    "- 给定高度$s_h$和宽度$s_w$的步幅， 输出形状是\n",
    "$$\\lfloor (n_h - k_h + p_h + s_h)/s_h \\rfloor \\times \\lfloor (n_w - k_w, + p_w + s_w) /s_w \\rfloor$$\n",
    "- 一般来说$p_h = k_h - 1, p_w = k_w - 1$\n",
    "- 卷积核的边长一般选奇数， 核的大小一般是最重要的，填充是为了不减小图片，步幅是为了快速压缩图片\n",
    "- 步幅和填充是网络架构设计的一部分，所以一般实际应用中不怎么调节\n",
    "- Receptive Field是随着网络越深越大的\n",
    "- 一个特定的卷积层可以理解为去学特定的纹理\n",
    "- 加padding有一种看法是让边缘的像素像中间一样被卷积核扫到很多次，避免丢失边缘特征"
   ]
  },
  {
   "cell_type": "code",
   "execution_count": 1,
   "id": "37651508",
   "metadata": {},
   "outputs": [
    {
     "data": {
      "text/plain": [
       "torch.Size([8, 8])"
      ]
     },
     "execution_count": 1,
     "metadata": {},
     "output_type": "execute_result"
    }
   ],
   "source": [
    "import torch\n",
    "from torch import nn\n",
    "from d2l import torch as d2l\n",
    "\n",
    "# 定义一个计算卷积层的函数\n",
    "def comp_conv2d(conv2d, X):\n",
    "    X = X.reshape((1, 1) + X.shape)\n",
    "    Y = conv2d(X)\n",
    "    return Y.reshape(Y.shape[2:])\n",
    "\n",
    "conv2d = nn.Conv2d(1, 1, kernel_size=3, padding=1)\n",
    "X = torch.rand(size=(8, 8))\n",
    "comp_conv2d(conv2d, X).shape"
   ]
  },
  {
   "cell_type": "code",
   "execution_count": 2,
   "id": "f0e25185",
   "metadata": {},
   "outputs": [
    {
     "data": {
      "text/plain": [
       "torch.Size([2, 2])"
      ]
     },
     "execution_count": 2,
     "metadata": {},
     "output_type": "execute_result"
    }
   ],
   "source": [
    "conv2d = nn.Conv2d(1, 1, kernel_size=(3, 5), padding=(0, 1), stride=(3, 4))\n",
    "comp_conv2d(conv2d, X).shape"
   ]
  }
 ],
 "metadata": {
  "kernelspec": {
   "display_name": "d2l",
   "language": "python",
   "name": "python3"
  },
  "language_info": {
   "codemirror_mode": {
    "name": "ipython",
    "version": 3
   },
   "file_extension": ".py",
   "mimetype": "text/x-python",
   "name": "python",
   "nbconvert_exporter": "python",
   "pygments_lexer": "ipython3",
   "version": "3.9.21"
  }
 },
 "nbformat": 4,
 "nbformat_minor": 5
}
