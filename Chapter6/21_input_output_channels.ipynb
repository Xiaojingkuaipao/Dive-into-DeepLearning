{
 "cells": [
  {
   "cell_type": "markdown",
   "metadata": {},
   "source": [
    "## 多输入多输出通道\n",
    "- 每个输出通道可以识别特定模式， 例如有的通道找边缘，有的通道找颜色这种\n",
    "- 一个输出通道对应一个三维的卷积核，所以多输出通道的卷积核是四维的权重\n",
    "- 输入通道核识别并组合输入中的模式\n",
    "- 刚开始学习很局部的特征，然后随着网络的加深，会把这些局部特征一步一步组合起来，组成一个整体的东西\n",
    "### 1*1的卷积层\n",
    "- **不识别空间模式，只是融合通道**融合不同通道的信息，并且可以改变通道数\n",
    "\n",
    "- <img src='../images/21_image_1.png' height='200'>\n",
    "- 相当于在通道维度做全连接\n",
    "- 相当于输入形状为$n_hn_w \\times c_i$权重为$c_o \\times c_i$的全连接层，相当于在像素点上做一个全连接层的维度转换\n",
    "- <img src='../images/21image2.png' width='500'>"
   ]
  },
  {
   "cell_type": "markdown",
   "metadata": {},
   "source": [
    "- 多通道互相关运算"
   ]
  },
  {
   "cell_type": "code",
   "execution_count": 13,
   "metadata": {},
   "outputs": [
    {
     "name": "stdout",
     "output_type": "stream",
     "text": [
      "torch.Size([3, 3]) torch.Size([2, 3, 3]) torch.Size([2, 2, 2])\n"
     ]
    },
    {
     "data": {
      "text/plain": [
       "tensor([[ 56.,  72.],\n",
       "        [104., 120.]])"
      ]
     },
     "execution_count": 13,
     "metadata": {},
     "output_type": "execute_result"
    }
   ],
   "source": [
    "import torch\n",
    "from torch import nn\n",
    "from d2l import torch as d2l\n",
    "\n",
    "# 对于多通道输入时单个输出通道的函数\n",
    "def corr2d_multi_in(X, K):\n",
    "    return sum([d2l.corr2d(x, k) for x, k in zip(X, K)])\n",
    "\n",
    "X = torch.tensor([[[0.0, 1.0, 2.0], [3.0, 4.0, 5.0], [6.0, 7.0, 8.0]],\n",
    "               [[1.0, 2.0, 3.0], [4.0, 5.0, 6.0], [7.0, 8.0, 9.0]]])\n",
    "K = torch.tensor([[[0.0, 1.0], [2.0, 3.0]], [[1.0, 2.0], [3.0, 4.0]]])\n",
    "print(X[0].shape, X.shape, K.shape)\n",
    "corr2d_multi_in(X, K)"
   ]
  },
  {
   "cell_type": "code",
   "execution_count": 14,
   "metadata": {},
   "outputs": [
    {
     "data": {
      "text/plain": [
       "torch.Size([3, 2, 2, 2])"
      ]
     },
     "execution_count": 14,
     "metadata": {},
     "output_type": "execute_result"
    }
   ],
   "source": [
    "def corr2d_multi_out(X, K):\n",
    "    \"\"\"计算多通道输出的输出函数\"\"\"\n",
    "    return torch.stack([corr2d_multi_in(X, k) for k in K], 0)\n",
    "\n",
    "# 理解一下torch.stack\n",
    "K = torch.stack((K, K + 1, K + 2), 0)\n",
    "K.shape"
   ]
  },
  {
   "cell_type": "code",
   "execution_count": 15,
   "metadata": {},
   "outputs": [
    {
     "data": {
      "text/plain": [
       "tensor([[[ 56.,  72.],\n",
       "         [104., 120.]],\n",
       "\n",
       "        [[ 76., 100.],\n",
       "         [148., 172.]],\n",
       "\n",
       "        [[ 96., 128.],\n",
       "         [192., 224.]]])"
      ]
     },
     "execution_count": 15,
     "metadata": {},
     "output_type": "execute_result"
    }
   ],
   "source": [
    "corr2d_multi_out(X, K)"
   ]
  },
  {
   "cell_type": "markdown",
   "metadata": {},
   "source": [
    "- 1 * 1的卷积核实际上等价于是一个全连接层，因为他并没有涉及到对于图像尺寸的改变，只涉及到了通道数的改变，类似于像素的维度转换，例如三通道转换为2通道就类似于将每个像素点从3维转换成了2维"
   ]
  },
  {
   "cell_type": "code",
   "execution_count": 34,
   "metadata": {},
   "outputs": [],
   "source": [
    "# 这个是按照自己的理解写的，与书上的版本有出入，但是思想上感觉差不多\n",
    "def corr2d_multi_in_out_1x1(X, K):\n",
    "    c_i, h, w = X.shape\n",
    "    c_o = K.shape[0]\n",
    "    X = X.reshape(c_i, h * w)\n",
    "    K = K.reshape(c_o, c_i)\n",
    "    Y = torch.matmul(X.T, K.T)\n",
    "    return Y.T.reshape(c_o, h, w)\n",
    "\n",
    "# def corr2d_multi_in_out_1x1(X, K):\n",
    "#     c_i, h, w = X.shape\n",
    "#     c_o = K.shape[0]\n",
    "#     X = X.reshape((c_i, h * w))\n",
    "#     K = K.reshape((c_o, c_i))\n",
    "#     # 全连接层中的矩阵乘法\n",
    "#     Y = torch.matmul(K, X)\n",
    "#     return Y.reshape((c_o, h, w))\n",
    "\n",
    "X = torch.normal(0, 1, (3, 3, 3))\n",
    "K = torch.normal(0, 1, (2, 3, 1, 1))\n",
    "Y1 = corr2d_multi_out(X, K)\n",
    "Y2 = corr2d_multi_in_out_1x1(X, K)\n",
    "\n",
    "assert float(torch.abs(Y1 - Y2).sum()) < 1e-6, Y1.shape"
   ]
  },
  {
   "cell_type": "markdown",
   "metadata": {},
   "source": [
    "- 通道之间不共享参数，共享参数是对于同一个通道平移"
   ]
  }
 ],
 "metadata": {
  "kernelspec": {
   "display_name": "d2l",
   "language": "python",
   "name": "python3"
  },
  "language_info": {
   "codemirror_mode": {
    "name": "ipython",
    "version": 3
   },
   "file_extension": ".py",
   "mimetype": "text/x-python",
   "name": "python",
   "nbconvert_exporter": "python",
   "pygments_lexer": "ipython3",
   "version": "3.9.21"
  }
 },
 "nbformat": 4,
 "nbformat_minor": 2
}
