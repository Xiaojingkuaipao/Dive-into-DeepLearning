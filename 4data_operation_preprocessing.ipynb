{
 "cells": [
  {
   "cell_type": "markdown",
   "metadata": {},
   "source": [
    "## 访问元素\n",
    "- 数组访问的时候切片访问格式是data[x:y:z]**(以一维数组为例)**\n",
    "- 取的是索引$[x,y)$，**注意是左闭右开**区间的数值，**Z**是跳数，每z步取一次"
   ]
  },
  {
   "cell_type": "code",
   "execution_count": 4,
   "metadata": {},
   "outputs": [
    {
     "name": "stdout",
     "output_type": "stream",
     "text": [
      "data:\n",
      "[[ 0  1  2  3]\n",
      " [ 4  5  6  7]\n",
      " [ 8  9 10 11]]\n",
      "Access 1 point\n",
      "6\n",
      "Access 1 line\n",
      "[4 5 6 7]\n",
      "Access 1 column\n",
      "[1 5 9]\n",
      "Access sub area\n",
      "[[ 5  6  7]\n",
      " [ 9 10 11]]\n",
      "Access sub area\n",
      "[[0 2]]\n"
     ]
    }
   ],
   "source": [
    "import numpy as np\n",
    "data = np.arange(12).reshape(3, 4)\n",
    "print(\"data:\")\n",
    "print(data)\n",
    "# 访问一个元素\n",
    "print(\"Access 1 point\")\n",
    "print(data[1, 2])\n",
    "\n",
    "# 访问一行\n",
    "print(\"Access 1 line\")\n",
    "print(data[1, :])\n",
    "\n",
    "# 访问一列\n",
    "print(\"Access 1 column\")\n",
    "print(data[:, 1])\n",
    "\n",
    "# 访问子区域\n",
    "print(\"Access sub area\")\n",
    "print(data[1:3, 1:])\n",
    "\n",
    "# 有跳数访问子区域\n",
    "# 从头到尾，行上面每3跳取一次（中间隔两个），也就是0..2，列上面每2跳（中间隔一个）取一次，也就是0.1.2\n",
    "print(\"Access sub area\")\n",
    "print(data[::3, ::2])"
   ]
  }
 ],
 "metadata": {
  "kernelspec": {
   "display_name": "d2l",
   "language": "python",
   "name": "python3"
  },
  "language_info": {
   "codemirror_mode": {
    "name": "ipython",
    "version": 3
   },
   "file_extension": ".py",
   "mimetype": "text/x-python",
   "name": "python",
   "nbconvert_exporter": "python",
   "pygments_lexer": "ipython3",
   "version": "3.9.20"
  }
 },
 "nbformat": 4,
 "nbformat_minor": 2
}
