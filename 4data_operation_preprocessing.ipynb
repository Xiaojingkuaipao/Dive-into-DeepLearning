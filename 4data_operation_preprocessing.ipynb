{
 "cells": [
  {
   "cell_type": "markdown",
   "metadata": {},
   "source": [
    "## 访问元素\n",
    "- 数组访问的时候切片访问格式是data[x:y:z]**(以一维数组为例)**\n",
    "- 取的是索引$[x,y)$**(注意是左闭右开)**区间的数值，**Z**是跳数，每z步取一次"
   ]
  }
 ],
 "metadata": {
  "kernelspec": {
   "display_name": "d2l",
   "language": "python",
   "name": "python3"
  },
  "language_info": {
   "name": "python",
   "version": "3.9.20"
  }
 },
 "nbformat": 4,
 "nbformat_minor": 2
}
